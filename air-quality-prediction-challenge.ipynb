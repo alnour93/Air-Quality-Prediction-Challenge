{
 "cells": [
  {
   "cell_type": "markdown",
   "id": "2380201a",
   "metadata": {
    "id": "o82Pb1fFbCEK",
    "papermill": {
     "duration": 0.012187,
     "end_time": "2024-06-18T09:24:03.507526",
     "exception": false,
     "start_time": "2024-06-18T09:24:03.495339",
     "status": "completed"
    },
    "tags": []
   },
   "source": [
    "# Air Quality Prediction Challenge\n",
    "\n",
    "# Introduction:\n",
    "The fight for clean air is a global battle, and Africa is a crucial battleground. This project tackles air pollution head-on, leveraging the power of satellite imagery and the CatBoost algorithm to predict PM2.5 levels in eight key African cities.\n",
    "\n",
    "# Why PM2.5?\n",
    "\n",
    "PM2.5, particulate matter with a diameter less than 2.5 micrometers, is a silent killer. It infiltrates our lungs, impacting respiratory health and posing a significant threat to public well-being. Accurately predicting PM2.5 concentrations empowers us to take proactive measures – from issuing health advisories to implementing pollution control strategies.\n",
    "\n",
    "# Our Data Arsenal:\n",
    "\n",
    "We'll be wielding a custom dataset specifically designed for this mission, focusing on eight African cities across seven african countries:\n",
    "\n",
    "Kampala, Uganda\n",
    "Lagos, Nigeria\n",
    "Accra, Ghana\n",
    "Nairobi, Kenya\n",
    "Yaoundé, Cameroon\n",
    "Bujumbura, Burundi\n",
    "Kisumu, Kenya\n",
    "Gulu, Uganda\n",
    "\n",
    "This dataset is a multifaceted weapon, combining the following:\n",
    "\n",
    "- PM2.5 measurements: The ground truth we're aiming to predict.\n",
    "Satellite-derived Aerosol Optical Depth (AOD) data: A powerful indicator of atmospheric particulate matter.\n",
    "- Information on various atmospheric pollutants: Data from Sentinel-5P satellites, including Sulphur Dioxide (SO2), Carbon Monoxide (CO), and others, which can provide clues about pollution sources and interactions.\n",
    "For more details about Sentinel-5P data, you can refer to [https://developers.google.com/earth-engine/datasets/catalog/sentinel-5p].\n",
    "\n",
    "# Training and Testing:\n",
    "\n",
    "To ensure our model can generalize effectively, the dataset is divided into two parts , training and validation .\n",
    "\n",
    "\n",
    "#The CatBoost Advantage:\n",
    "\n",
    "CatBoost, known for its efficiency and ability to handle diverse data types, will be our weapon of choice in building a predictive model. By leveraging Group K-Fold cross-validation, we'll ensure the model performs well on new data, not just the training set.\n",
    "\n",
    "# Data Preprocessing:\n",
    "We'll meticulously examine the data, identifying and handling missing values, and potentially performing feature scaling to ensure variables are on a similar scale.\n",
    "\n",
    "#Feature Engineering:\n",
    " We'll delve deeper, crafting informative features from the satellite data and other available information. This will help the model learn complex relationships between PM2.5 and various factors.\n",
    "\n",
    "#Model Training and Evaluation:\n",
    "We'll train the CatBoost model and rigorously evaluate its performance using metrics like RMSE. This will determine its accuracy in predicting PM2.5 levels.\n",
    "\n",
    "# Feature Importance Analysis:\n",
    "\n",
    "By analyzing the model's feature importances, we'll identify the satellite observations and pollutants that have the most significant influence on PM2.5 concentrations. This will provide invaluable insights into the factors shaping air quality in these cities.\n",
    "\n",
    "# Goal:\n",
    "\n",
    "This project aims to build a reliable model for predicting PM2.5 levels using satellite data. Ultimately, this model can serve as a cornerstone for environmental monitoring and air quality management in these African cities, paving the way for a cleaner, healthier future.\n",
    "\n"
   ]
  },
  {
   "cell_type": "code",
   "execution_count": 1,
   "id": "aacfcabb",
   "metadata": {
    "execution": {
     "iopub.execute_input": "2024-06-18T09:24:03.534121Z",
     "iopub.status.busy": "2024-06-18T09:24:03.532742Z",
     "iopub.status.idle": "2024-06-18T09:24:20.785757Z",
     "shell.execute_reply": "2024-06-18T09:24:20.784223Z"
    },
    "id": "7VLltx41yCgW",
    "outputId": "d2b69074-15db-48eb-9f0a-97109c3bf0cc",
    "papermill": {
     "duration": 17.269584,
     "end_time": "2024-06-18T09:24:20.788445",
     "exception": false,
     "start_time": "2024-06-18T09:24:03.518861",
     "status": "completed"
    },
    "tags": []
   },
   "outputs": [
    {
     "name": "stdout",
     "output_type": "stream",
     "text": [
      "Requirement already satisfied: catboost in /opt/conda/lib/python3.10/site-packages (1.2.5)\r\n",
      "Requirement already satisfied: graphviz in /opt/conda/lib/python3.10/site-packages (from catboost) (0.20.3)\r\n",
      "Requirement already satisfied: matplotlib in /opt/conda/lib/python3.10/site-packages (from catboost) (3.7.5)\r\n",
      "Requirement already satisfied: numpy>=1.16.0 in /opt/conda/lib/python3.10/site-packages (from catboost) (1.26.4)\r\n",
      "Requirement already satisfied: pandas>=0.24 in /opt/conda/lib/python3.10/site-packages (from catboost) (2.2.2)\r\n",
      "Requirement already satisfied: scipy in /opt/conda/lib/python3.10/site-packages (from catboost) (1.11.4)\r\n",
      "Requirement already satisfied: plotly in /opt/conda/lib/python3.10/site-packages (from catboost) (5.18.0)\r\n",
      "Requirement already satisfied: six in /opt/conda/lib/python3.10/site-packages (from catboost) (1.16.0)\r\n",
      "Requirement already satisfied: python-dateutil>=2.8.2 in /opt/conda/lib/python3.10/site-packages (from pandas>=0.24->catboost) (2.9.0.post0)\r\n",
      "Requirement already satisfied: pytz>=2020.1 in /opt/conda/lib/python3.10/site-packages (from pandas>=0.24->catboost) (2023.3.post1)\r\n",
      "Requirement already satisfied: tzdata>=2022.7 in /opt/conda/lib/python3.10/site-packages (from pandas>=0.24->catboost) (2023.4)\r\n",
      "Requirement already satisfied: contourpy>=1.0.1 in /opt/conda/lib/python3.10/site-packages (from matplotlib->catboost) (1.2.0)\r\n",
      "Requirement already satisfied: cycler>=0.10 in /opt/conda/lib/python3.10/site-packages (from matplotlib->catboost) (0.12.1)\r\n",
      "Requirement already satisfied: fonttools>=4.22.0 in /opt/conda/lib/python3.10/site-packages (from matplotlib->catboost) (4.47.0)\r\n",
      "Requirement already satisfied: kiwisolver>=1.0.1 in /opt/conda/lib/python3.10/site-packages (from matplotlib->catboost) (1.4.5)\r\n",
      "Requirement already satisfied: packaging>=20.0 in /opt/conda/lib/python3.10/site-packages (from matplotlib->catboost) (21.3)\r\n",
      "Requirement already satisfied: pillow>=6.2.0 in /opt/conda/lib/python3.10/site-packages (from matplotlib->catboost) (9.5.0)\r\n",
      "Requirement already satisfied: pyparsing>=2.3.1 in /opt/conda/lib/python3.10/site-packages (from matplotlib->catboost) (3.1.1)\r\n",
      "Requirement already satisfied: tenacity>=6.2.0 in /opt/conda/lib/python3.10/site-packages (from plotly->catboost) (8.2.3)\r\n",
      "Note: you may need to restart the kernel to use updated packages.\n"
     ]
    }
   ],
   "source": [
    "pip install catboost"
   ]
  },
  {
   "cell_type": "markdown",
   "id": "2b046ab5",
   "metadata": {
    "id": "6WJ76s8jKCTP",
    "papermill": {
     "duration": 0.011914,
     "end_time": "2024-06-18T09:24:20.812182",
     "exception": false,
     "start_time": "2024-06-18T09:24:20.800268",
     "status": "completed"
    },
    "tags": []
   },
   "source": [
    "## Importing Libraries\n",
    "\n",
    "First, we need to import the necessary libraries."
   ]
  },
  {
   "cell_type": "code",
   "execution_count": 2,
   "id": "5ec06ad2",
   "metadata": {
    "_cell_guid": "b1076dfc-b9ad-4769-8c92-a6c4dae69d19",
    "_uuid": "8f2839f25d086af736a60e9eeb907d3b93b6e0e5",
    "execution": {
     "iopub.execute_input": "2024-06-18T09:24:20.837839Z",
     "iopub.status.busy": "2024-06-18T09:24:20.837412Z",
     "iopub.status.idle": "2024-06-18T09:24:24.067780Z",
     "shell.execute_reply": "2024-06-18T09:24:24.066684Z"
    },
    "id": "k7ewdmNwKCTS",
    "papermill": {
     "duration": 3.246697,
     "end_time": "2024-06-18T09:24:24.070703",
     "exception": false,
     "start_time": "2024-06-18T09:24:20.824006",
     "status": "completed"
    },
    "tags": []
   },
   "outputs": [],
   "source": [
    "import pandas as pd\n",
    "import numpy as np\n",
    "\n",
    "from sklearn.model_selection import GroupKFold\n",
    "from sklearn.preprocessing import LabelEncoder\n",
    "from sklearn.metrics import mean_squared_error\n",
    "\n",
    "import catboost as catt\n",
    "import warnings\n",
    "warnings.filterwarnings(\"ignore\")\n",
    "\n",
    "pd.options.display.max_rows = 500\n",
    "pd.options.display.max_rows = 500"
   ]
  },
  {
   "cell_type": "markdown",
   "id": "92c19b78",
   "metadata": {
    "id": "y6r4cpS1bPja",
    "papermill": {
     "duration": 0.011367,
     "end_time": "2024-06-18T09:24:24.094061",
     "exception": false,
     "start_time": "2024-06-18T09:24:24.082694",
     "status": "completed"
    },
    "tags": []
   },
   "source": [
    "## Configuration and Data Loading\n",
    "\n",
    "Define configuration and load the train and test datasets."
   ]
  },
  {
   "cell_type": "code",
   "execution_count": 3,
   "id": "f54a966c",
   "metadata": {
    "execution": {
     "iopub.execute_input": "2024-06-18T09:24:24.120400Z",
     "iopub.status.busy": "2024-06-18T09:24:24.119195Z",
     "iopub.status.idle": "2024-06-18T09:24:24.125810Z",
     "shell.execute_reply": "2024-06-18T09:24:24.124284Z"
    },
    "id": "KGjhdMNAKCTT",
    "papermill": {
     "duration": 0.022746,
     "end_time": "2024-06-18T09:24:24.128821",
     "exception": false,
     "start_time": "2024-06-18T09:24:24.106075",
     "status": "completed"
    },
    "tags": []
   },
   "outputs": [],
   "source": [
    "class Config:\n",
    "    path = \"/kaggle/input/air-quality-data-set/\"\n",
    "    id_col = \"id\"\n",
    "    target_col = \"pm2_5\""
   ]
  },
  {
   "cell_type": "code",
   "execution_count": 4,
   "id": "306b655c",
   "metadata": {
    "execution": {
     "iopub.execute_input": "2024-06-18T09:24:24.155267Z",
     "iopub.status.busy": "2024-06-18T09:24:24.154149Z",
     "iopub.status.idle": "2024-06-18T09:24:24.482501Z",
     "shell.execute_reply": "2024-06-18T09:24:24.481018Z"
    },
    "id": "m0D32UBjKCTU",
    "papermill": {
     "duration": 0.344709,
     "end_time": "2024-06-18T09:24:24.485819",
     "exception": false,
     "start_time": "2024-06-18T09:24:24.141110",
     "status": "completed"
    },
    "tags": []
   },
   "outputs": [],
   "source": [
    "train = pd.read_csv(Config.path + \"Train.csv\")\n",
    "test = pd.read_csv(Config.path + \"Test.csv\")"
   ]
  },
  {
   "cell_type": "code",
   "execution_count": 5,
   "id": "fcd23937",
   "metadata": {
    "execution": {
     "iopub.execute_input": "2024-06-18T09:24:24.511200Z",
     "iopub.status.busy": "2024-06-18T09:24:24.510772Z",
     "iopub.status.idle": "2024-06-18T09:24:24.520770Z",
     "shell.execute_reply": "2024-06-18T09:24:24.519264Z"
    },
    "id": "bOrEx8gXKCTU",
    "outputId": "5a2ea888-3249-4dd3-b425-738743f67f56",
    "papermill": {
     "duration": 0.025981,
     "end_time": "2024-06-18T09:24:24.523656",
     "exception": false,
     "start_time": "2024-06-18T09:24:24.497675",
     "status": "completed"
    },
    "tags": []
   },
   "outputs": [
    {
     "data": {
      "text/plain": [
       "((8071, 80), (2783, 79))"
      ]
     },
     "execution_count": 5,
     "metadata": {},
     "output_type": "execute_result"
    }
   ],
   "source": [
    "# train.isnull().sum()/len(train)\n",
    "train.shape, test.shape"
   ]
  },
  {
   "cell_type": "markdown",
   "id": "425585d0",
   "metadata": {
    "id": "tUQ8ERgdbhmj",
    "papermill": {
     "duration": 0.012428,
     "end_time": "2024-06-18T09:24:24.549880",
     "exception": false,
     "start_time": "2024-06-18T09:24:24.537452",
     "status": "completed"
    },
    "tags": []
   },
   "source": [
    "## Dropping Columns with High Missing Values\n",
    "\n",
    "Drop columns with more than 70% missing values."
   ]
  },
  {
   "cell_type": "code",
   "execution_count": 6,
   "id": "fdd5ea91",
   "metadata": {
    "execution": {
     "iopub.execute_input": "2024-06-18T09:24:24.577924Z",
     "iopub.status.busy": "2024-06-18T09:24:24.577430Z",
     "iopub.status.idle": "2024-06-18T09:24:24.615498Z",
     "shell.execute_reply": "2024-06-18T09:24:24.614168Z"
    },
    "id": "dy9_Xz9mKCTV",
    "papermill": {
     "duration": 0.055973,
     "end_time": "2024-06-18T09:24:24.618519",
     "exception": false,
     "start_time": "2024-06-18T09:24:24.562546",
     "status": "completed"
    },
    "tags": []
   },
   "outputs": [],
   "source": [
    "drop_cols = train.columns[train.isna().sum()/len(train) > 0.7]\n",
    "train.drop(columns=drop_cols, inplace=True)\n",
    "test.drop(columns=drop_cols, inplace=True)\n"
   ]
  },
  {
   "cell_type": "markdown",
   "id": "4ff5e506",
   "metadata": {
    "id": "mDZHUIphbrPl",
    "papermill": {
     "duration": 0.014344,
     "end_time": "2024-06-18T09:24:24.645496",
     "exception": false,
     "start_time": "2024-06-18T09:24:24.631152",
     "status": "completed"
    },
    "tags": []
   },
   "source": [
    "## Creating Folds\n",
    "\n",
    "Create GroupKFold cross-validation folds based on the city column."
   ]
  },
  {
   "cell_type": "code",
   "execution_count": 7,
   "id": "21cddf08",
   "metadata": {
    "execution": {
     "iopub.execute_input": "2024-06-18T09:24:24.671388Z",
     "iopub.status.busy": "2024-06-18T09:24:24.670992Z",
     "iopub.status.idle": "2024-06-18T09:24:24.705780Z",
     "shell.execute_reply": "2024-06-18T09:24:24.704408Z"
    },
    "id": "pyiQyKi2KCTW",
    "outputId": "a1c16a3a-b4df-471a-fa9d-2baff2107b04",
    "papermill": {
     "duration": 0.050913,
     "end_time": "2024-06-18T09:24:24.708455",
     "exception": false,
     "start_time": "2024-06-18T09:24:24.657542",
     "status": "completed"
    },
    "tags": []
   },
   "outputs": [
    {
     "data": {
      "text/html": [
       "<div>\n",
       "<style scoped>\n",
       "    .dataframe tbody tr th:only-of-type {\n",
       "        vertical-align: middle;\n",
       "    }\n",
       "\n",
       "    .dataframe tbody tr th {\n",
       "        vertical-align: top;\n",
       "    }\n",
       "\n",
       "    .dataframe thead th {\n",
       "        text-align: right;\n",
       "    }\n",
       "</style>\n",
       "<table border=\"1\" class=\"dataframe\">\n",
       "  <thead>\n",
       "    <tr style=\"text-align: right;\">\n",
       "      <th></th>\n",
       "      <th>count</th>\n",
       "    </tr>\n",
       "    <tr>\n",
       "      <th>folds</th>\n",
       "      <th></th>\n",
       "    </tr>\n",
       "  </thead>\n",
       "  <tbody>\n",
       "    <tr>\n",
       "      <th>1</th>\n",
       "      <td>5596</td>\n",
       "    </tr>\n",
       "    <tr>\n",
       "      <th>2</th>\n",
       "      <td>1500</td>\n",
       "    </tr>\n",
       "    <tr>\n",
       "      <th>3</th>\n",
       "      <td>852</td>\n",
       "    </tr>\n",
       "    <tr>\n",
       "      <th>4</th>\n",
       "      <td>123</td>\n",
       "    </tr>\n",
       "  </tbody>\n",
       "</table>\n",
       "</div>"
      ],
      "text/plain": [
       "       count\n",
       "folds       \n",
       "1       5596\n",
       "2       1500\n",
       "3        852\n",
       "4        123"
      ]
     },
     "execution_count": 7,
     "metadata": {},
     "output_type": "execute_result"
    }
   ],
   "source": [
    "# Create folds before feature engineering\n",
    "gkf = GroupKFold(n_splits = 4)\n",
    "train['folds'] = np.nan\n",
    "\n",
    "# Generate the splits\n",
    "for fold, (train_index, test_index) in enumerate(gkf.split(train, groups=train['city']), 1):\n",
    "    # Assign fold index to corresponding rows in the DataFrame\n",
    "    train.loc[test_index, 'folds'] = fold\n",
    "\n",
    "# Convert fold indices to integer type\n",
    "train['folds'] = train['folds'].astype(int)\n",
    "train.groupby('folds')['pm2_5'].agg({'count'})"
   ]
  },
  {
   "cell_type": "markdown",
   "id": "67924474",
   "metadata": {
    "id": "RZXos0nJbzGk",
    "papermill": {
     "duration": 0.011743,
     "end_time": "2024-06-18T09:24:24.732957",
     "exception": false,
     "start_time": "2024-06-18T09:24:24.721214",
     "status": "completed"
    },
    "tags": []
   },
   "source": [
    "## Data Distribution Analysis\n",
    "\n",
    "Compare the data distribution across the folds."
   ]
  },
  {
   "cell_type": "code",
   "execution_count": 8,
   "id": "864414c0",
   "metadata": {
    "execution": {
     "iopub.execute_input": "2024-06-18T09:24:24.759170Z",
     "iopub.status.busy": "2024-06-18T09:24:24.758745Z",
     "iopub.status.idle": "2024-06-18T09:24:24.881796Z",
     "shell.execute_reply": "2024-06-18T09:24:24.880664Z"
    },
    "id": "Di4_b5SX5rFX",
    "outputId": "fb37ccd6-4381-4f77-8ac3-67bce134aec5",
    "papermill": {
     "duration": 0.139618,
     "end_time": "2024-06-18T09:24:24.884858",
     "exception": false,
     "start_time": "2024-06-18T09:24:24.745240",
     "status": "completed"
    },
    "tags": []
   },
   "outputs": [
    {
     "data": {
      "text/html": [
       "<style type=\"text/css\">\n",
       "#T_d80c4_row0_col0, #T_d80c4_row0_col3, #T_d80c4_row1_col1, #T_d80c4_row1_col2 {\n",
       "  background-color: #014636;\n",
       "  color: #f1f1f1;\n",
       "}\n",
       "#T_d80c4_row0_col1, #T_d80c4_row0_col2, #T_d80c4_row1_col0, #T_d80c4_row1_col3 {\n",
       "  background-color: #fff7fb;\n",
       "  color: #000000;\n",
       "}\n",
       "</style>\n",
       "<table id=\"T_d80c4\">\n",
       "  <thead>\n",
       "    <tr>\n",
       "      <th class=\"blank\" >&nbsp;</th>\n",
       "      <th class=\"index_name level0\" >folds</th>\n",
       "      <th id=\"T_d80c4_level0_col0\" class=\"col_heading level0 col0\" >1</th>\n",
       "      <th id=\"T_d80c4_level0_col1\" class=\"col_heading level0 col1\" >2</th>\n",
       "      <th id=\"T_d80c4_level0_col2\" class=\"col_heading level0 col2\" >3</th>\n",
       "      <th id=\"T_d80c4_level0_col3\" class=\"col_heading level0 col3\" >4</th>\n",
       "    </tr>\n",
       "  </thead>\n",
       "  <tbody>\n",
       "    <tr>\n",
       "      <th id=\"T_d80c4_level0_row0\" class=\"row_heading level0 row0\" rowspan=\"2\">pm2_5</th>\n",
       "      <th id=\"T_d80c4_level1_row0\" class=\"row_heading level1 row0\" >mean</th>\n",
       "      <td id=\"T_d80c4_row0_col0\" class=\"data row0 col0\" >22.765384</td>\n",
       "      <td id=\"T_d80c4_row0_col1\" class=\"data row0 col1\" >18.879330</td>\n",
       "      <td id=\"T_d80c4_row0_col2\" class=\"data row0 col2\" >46.213294</td>\n",
       "      <td id=\"T_d80c4_row0_col3\" class=\"data row0 col3\" >30.698758</td>\n",
       "    </tr>\n",
       "    <tr>\n",
       "      <th id=\"T_d80c4_level1_row1\" class=\"row_heading level1 row1\" >std</th>\n",
       "      <td id=\"T_d80c4_row1_col0\" class=\"data row1 col0\" >14.346829</td>\n",
       "      <td id=\"T_d80c4_row1_col1\" class=\"data row1 col1\" >24.982218</td>\n",
       "      <td id=\"T_d80c4_row1_col2\" class=\"data row1 col2\" >52.843883</td>\n",
       "      <td id=\"T_d80c4_row1_col3\" class=\"data row1 col3\" >22.353384</td>\n",
       "    </tr>\n",
       "  </tbody>\n",
       "</table>\n"
      ],
      "text/plain": [
       "<pandas.io.formats.style.Styler at 0x7c626770d5d0>"
      ]
     },
     "execution_count": 8,
     "metadata": {},
     "output_type": "execute_result"
    }
   ],
   "source": [
    "#compare between the folds in the data\n",
    "\n",
    "train.groupby('folds').agg({'pm2_5': ['mean', 'std']}).T.style.background_gradient(cmap='PuBuGn')\n"
   ]
  },
  {
   "cell_type": "code",
   "execution_count": 9,
   "id": "f15952df",
   "metadata": {
    "execution": {
     "iopub.execute_input": "2024-06-18T09:24:24.911863Z",
     "iopub.status.busy": "2024-06-18T09:24:24.911307Z",
     "iopub.status.idle": "2024-06-18T09:24:26.265100Z",
     "shell.execute_reply": "2024-06-18T09:24:26.263792Z"
    },
    "id": "-6Zb0gDI62Lt",
    "outputId": "602069b9-7488-4f17-9723-bfbf056edf72",
    "papermill": {
     "duration": 1.370474,
     "end_time": "2024-06-18T09:24:26.267849",
     "exception": false,
     "start_time": "2024-06-18T09:24:24.897375",
     "status": "completed"
    },
    "tags": []
   },
   "outputs": [
    {
     "data": {
      "image/png": "[encoded data removed]",
      "text/plain": [
       "<Figure size 1000x500 with 1 Axes>"
      ]
     },
     "metadata": {},
     "output_type": "display_data"
    },
    {
     "data": {
      "image/png": "[encoded data removed]",
      "text/plain": [
       "<Figure size 1000x500 with 1 Axes>"
      ]
     },
     "metadata": {},
     "output_type": "display_data"
    },
    {
     "data": {
      "image/png": "[encoded data removed]",
      "text/plain": [
       "<Figure size 1000x500 with 1 Axes>"
      ]
     },
     "metadata": {},
     "output_type": "display_data"
    },
    {
     "data": {
      "image/png": "[encoded data removed]",
      "text/plain": [
       "<Figure size 1000x500 with 1 Axes>"
      ]
     },
     "metadata": {},
     "output_type": "display_data"
    }
   ],
   "source": [
    "import matplotlib.pyplot as plt\n",
    "\n",
    "for fold in train['folds'].unique():\n",
    "    plt.figure(figsize=(10, 5))\n",
    "    plt.hist(train[train['folds'] == fold]['pm2_5'], bins=20)\n",
    "    plt.title(f'Histogram of pm2_5 for fold {fold}')\n",
    "    plt.xlabel('pm2_5')\n",
    "    plt.ylabel('Frequency')\n",
    "    plt.show()\n"
   ]
  },
  {
   "cell_type": "markdown",
   "id": "2e8c5c4e",
   "metadata": {
    "id": "x2_F2abyb5nu",
    "papermill": {
     "duration": 0.014321,
     "end_time": "2024-06-18T09:24:26.296358",
     "exception": false,
     "start_time": "2024-06-18T09:24:26.282037",
     "status": "completed"
    },
    "tags": []
   },
   "source": [
    "## Missing Value Imputation\n",
    "\n",
    "Impute missing values using forward and backward fill methods.\n"
   ]
  },
  {
   "cell_type": "code",
   "execution_count": 10,
   "id": "a49f8406",
   "metadata": {
    "execution": {
     "iopub.execute_input": "2024-06-18T09:24:26.335668Z",
     "iopub.status.busy": "2024-06-18T09:24:26.335180Z",
     "iopub.status.idle": "2024-06-18T09:25:05.849205Z",
     "shell.execute_reply": "2024-06-18T09:25:05.848078Z"
    },
    "id": "PvH_xAZg-cvS",
    "papermill": {
     "duration": 39.538289,
     "end_time": "2024-06-18T09:25:05.852252",
     "exception": false,
     "start_time": "2024-06-18T09:24:26.313963",
     "status": "completed"
    },
    "tags": []
   },
   "outputs": [],
   "source": [
    "def forward_fill(df, cols, date_col):\n",
    "  for col in cols:\n",
    "    df[col] = df.groupby(date_col)[col].transform(lambda x: x.fillna(method='ffill'))\n",
    "  return df\n",
    "\n",
    "def back_fill(df, cols, date_col):\n",
    "  for col in cols:\n",
    "    df[col] = df.groupby(date_col)[col].transform(lambda x: x.fillna(method='bfill'))\n",
    "  return df\n",
    "\n",
    "for fold in train['folds'].unique():\n",
    "  train_fold = train[train['folds'] == fold]\n",
    "  test_fold = test.copy()\n",
    "\n",
    "  # Identify columns with missing values\n",
    "  cols_with_missing = train_fold.columns[train_fold.isnull().any()]\n",
    "\n",
    "  # Forward fill missing values\n",
    "  train_fold = forward_fill(train_fold, cols_with_missing, 'date')\n",
    "  test_fold = forward_fill(test_fold, cols_with_missing, 'date')\n",
    "\n",
    "  # Back fill missing values\n",
    "  train_fold = back_fill(train_fold, cols_with_missing, 'date')\n",
    "  test_fold = back_fill(test_fold, cols_with_missing, 'date')\n",
    "\n",
    "  # Update the train and test sets\n",
    "  train.update(train_fold)\n",
    "  test.update(test_fold)"
   ]
  },
  {
   "cell_type": "markdown",
   "id": "c5dcba09",
   "metadata": {
    "id": "JeZ8RsVSb-9W",
    "papermill": {
     "duration": 0.014563,
     "end_time": "2024-06-18T09:25:05.881178",
     "exception": false,
     "start_time": "2024-06-18T09:25:05.866615",
     "status": "completed"
    },
    "tags": []
   },
   "source": [
    "## Feature Engineering\n",
    "\n",
    "Create new features and perform label encoding.\n"
   ]
  },
  {
   "cell_type": "code",
   "execution_count": 11,
   "id": "ba0dbc7c",
   "metadata": {
    "execution": {
     "iopub.execute_input": "2024-06-18T09:25:05.911392Z",
     "iopub.status.busy": "2024-06-18T09:25:05.910928Z",
     "iopub.status.idle": "2024-06-18T09:25:06.388964Z",
     "shell.execute_reply": "2024-06-18T09:25:06.387843Z"
    },
    "id": "8ZuVWQgqKCTX",
    "papermill": {
     "duration": 0.496514,
     "end_time": "2024-06-18T09:25:06.391782",
     "exception": false,
     "start_time": "2024-06-18T09:25:05.895268",
     "status": "completed"
    },
    "tags": []
   },
   "outputs": [],
   "source": [
    "def feature_engineering(train,test):\n",
    "    le = LabelEncoder()\n",
    "    data = pd.concat([train, test])\n",
    "    data['location'] = data['site_latitude'].astype('str') + '_' + data['site_longitude'].astype('str')\n",
    "\n",
    "    data = data.sort_values(by = ['city','location', 'date', 'hour'])\n",
    "    categorical_cols = data.select_dtypes(include='object').columns.tolist()\n",
    "    high_cardinality = ['site_id']\n",
    "    low_cardinality = ['city', 'country']\n",
    "    categorical_cols.remove('date')\n",
    "    date_cols = ['date']\n",
    "    numerical_cols = data.select_dtypes(exclude='object').columns.tolist()\n",
    "\n",
    "    #fill in missing values BY grouping using the cities\n",
    "    nan_cols = [col for col in numerical_cols if data[col].isnull().sum()>0 and col not in [Config.target_col, \"folds\"]]\n",
    "    for col in nan_cols:\n",
    "        data[col].fillna(data[[\"location\",\"city\", col]].groupby([\"city\",\"location\"]).shift(periods=0).fillna(method='ffill', limit=1).fillna(method='bfill', limit=1)[col], inplace=True)\n",
    "\n",
    "    #get date features\n",
    "    for col in date_cols:\n",
    "        data[col] = pd.to_datetime(data[col])\n",
    "        data['month'] = data['date'].dt.month\n",
    "        data['year'] = data['date'].dt.year\n",
    "        data['quarter'] = data['date'].dt.quarter\n",
    "        data['day'] = data['date'].dt.day\n",
    "        data['week'] = data['date'].dt.isocalendar().week\n",
    "\n",
    "\n",
    "    #label encode the cat features\n",
    "    for col in high_cardinality + date_cols + ['location']:\n",
    "        data[col] = le.fit_transform(data[col])\n",
    "\n",
    "\n",
    "#     data = pd.get_dummies(data , columns = low_cardinality, drop_first= True, dtype=float)\n",
    "    independent_features = [col for col in data.columns if col not in [Config.target_col, Config.id_col, 'folds', 'country', 'city','site_id','site_latitude','site_longitude' ]]\n",
    "    dependent_feature = Config.target_col\n",
    "\n",
    "    train  = data[data['id'].isin(train['id'].unique())]\n",
    "    test = data[data['id'].isin(test['id'].unique())]\n",
    "\n",
    "    return train, test, independent_features, dependent_feature\n",
    "\n",
    "train_df, test_df, independent_features, dependent_feature = feature_engineering(train, test)"
   ]
  },
  {
   "cell_type": "markdown",
   "id": "9010a38c",
   "metadata": {
    "id": "YW7ZkYDGcEf4",
    "papermill": {
     "duration": 0.013794,
     "end_time": "2024-06-18T09:25:06.420458",
     "exception": false,
     "start_time": "2024-06-18T09:25:06.406664",
     "status": "completed"
    },
    "tags": []
   },
   "source": [
    "## Modeling: Stage 1\n",
    "\n",
    "Train the CatBoost model using the created folds.\n"
   ]
  },
  {
   "cell_type": "code",
   "execution_count": 12,
   "id": "59264bdf",
   "metadata": {
    "execution": {
     "iopub.execute_input": "2024-06-18T09:25:06.450448Z",
     "iopub.status.busy": "2024-06-18T09:25:06.449993Z",
     "iopub.status.idle": "2024-06-18T09:25:06.468189Z",
     "shell.execute_reply": "2024-06-18T09:25:06.466990Z"
    },
    "id": "Gt_KAy8PKCTY",
    "outputId": "acabfdaf-1973-4ca8-ccba-dd8a6d051115",
    "papermill": {
     "duration": 0.036305,
     "end_time": "2024-06-18T09:25:06.470834",
     "exception": false,
     "start_time": "2024-06-18T09:25:06.434529",
     "status": "completed"
    },
    "tags": []
   },
   "outputs": [
    {
     "data": {
      "text/plain": [
       "((6571, 79), (1500, 79))"
      ]
     },
     "execution_count": 12,
     "metadata": {},
     "output_type": "execute_result"
    }
   ],
   "source": [
    "training  = train_df[train_df['folds'].isin([1.0,4.0, 3.0])]\n",
    "\n",
    "validation = train_df[train_df['folds'].isin([2.0])]\n",
    "training.shape, validation.shape"
   ]
  },
  {
   "cell_type": "code",
   "execution_count": 13,
   "id": "e4835125",
   "metadata": {
    "execution": {
     "iopub.execute_input": "2024-06-18T09:25:06.502116Z",
     "iopub.status.busy": "2024-06-18T09:25:06.501016Z",
     "iopub.status.idle": "2024-06-18T09:25:11.154668Z",
     "shell.execute_reply": "2024-06-18T09:25:11.153256Z"
    },
    "id": "8bxD90IKKCTY",
    "outputId": "5dd6eaf6-abbd-4a69-9356-2b9c40799995",
    "papermill": {
     "duration": 4.672059,
     "end_time": "2024-06-18T09:25:11.157301",
     "exception": false,
     "start_time": "2024-06-18T09:25:06.485242",
     "status": "completed"
    },
    "tags": []
   },
   "outputs": [
    {
     "name": "stdout",
     "output_type": "stream",
     "text": [
      "Learning rate set to 0.068433\n",
      "0:\tlearn: 24.2983927\ttest: 25.8706263\tbest: 25.8706263 (0)\ttotal: 70.3ms\tremaining: 1m 10s\n",
      "100:\tlearn: 12.5677857\ttest: 24.8848818\tbest: 24.8843052 (97)\ttotal: 1.14s\tremaining: 10.1s\n",
      "200:\tlearn: 9.5415921\ttest: 24.8669852\tbest: 24.8372444 (157)\ttotal: 2.19s\tremaining: 8.71s\n",
      "300:\tlearn: 8.1693951\ttest: 24.9349666\tbest: 24.8372444 (157)\ttotal: 3.29s\tremaining: 7.64s\n",
      "400:\tlearn: 7.3759366\ttest: 24.9685322\tbest: 24.8372444 (157)\ttotal: 4.33s\tremaining: 6.47s\n",
      "Stopped by overfitting detector  (250 iterations wait)\n",
      "\n",
      "bestTest = 24.8372444\n",
      "bestIteration = 157\n",
      "\n",
      "Shrink model to first 158 iterations.\n"
     ]
    },
    {
     "data": {
      "text/plain": [
       "<catboost.core.CatBoostRegressor at 0x7c621fb29d20>"
      ]
     },
     "execution_count": 13,
     "metadata": {},
     "output_type": "execute_result"
    }
   ],
   "source": [
    "model = catt.CatBoostRegressor(random_state = 42, eval_metric = 'RMSE')\n",
    "model.fit(training[independent_features], training[dependent_feature], eval_set = (validation[independent_features], validation[dependent_feature]), verbose = 100, early_stopping_rounds = 250 )"
   ]
  },
  {
   "cell_type": "markdown",
   "id": "3921137d",
   "metadata": {
    "id": "XkOXKBJsKCTZ",
    "papermill": {
     "duration": 0.015269,
     "end_time": "2024-06-18T09:25:11.187636",
     "exception": false,
     "start_time": "2024-06-18T09:25:11.172367",
     "status": "completed"
    },
    "tags": []
   },
   "source": [
    "#### Visualize feature importance"
   ]
  },
  {
   "cell_type": "code",
   "execution_count": 14,
   "id": "2b732cb3",
   "metadata": {
    "execution": {
     "iopub.execute_input": "2024-06-18T09:25:11.219815Z",
     "iopub.status.busy": "2024-06-18T09:25:11.219425Z",
     "iopub.status.idle": "2024-06-18T09:25:11.247304Z",
     "shell.execute_reply": "2024-06-18T09:25:11.245888Z"
    },
    "id": "PdBwGb1qKCTZ",
    "outputId": "17657c5d-ea21-45c3-ed34-c9108f41361a",
    "papermill": {
     "duration": 0.047047,
     "end_time": "2024-06-18T09:25:11.250000",
     "exception": false,
     "start_time": "2024-06-18T09:25:11.202953",
     "status": "completed"
    },
    "tags": []
   },
   "outputs": [
    {
     "data": {
      "text/html": [
       "<div>\n",
       "<style scoped>\n",
       "    .dataframe tbody tr th:only-of-type {\n",
       "        vertical-align: middle;\n",
       "    }\n",
       "\n",
       "    .dataframe tbody tr th {\n",
       "        vertical-align: top;\n",
       "    }\n",
       "\n",
       "    .dataframe thead th {\n",
       "        text-align: right;\n",
       "    }\n",
       "</style>\n",
       "<table border=\"1\" class=\"dataframe\">\n",
       "  <thead>\n",
       "    <tr style=\"text-align: right;\">\n",
       "      <th></th>\n",
       "      <th>feature_name</th>\n",
       "      <th>varimp (%)</th>\n",
       "    </tr>\n",
       "  </thead>\n",
       "  <tbody>\n",
       "    <tr>\n",
       "      <th>66</th>\n",
       "      <td>location</td>\n",
       "      <td>59.23048</td>\n",
       "    </tr>\n",
       "    <tr>\n",
       "      <th>12</th>\n",
       "      <td>carbonmonoxide_co_column_number_density</td>\n",
       "      <td>8.058968</td>\n",
       "    </tr>\n",
       "    <tr>\n",
       "      <th>0</th>\n",
       "      <td>date</td>\n",
       "      <td>3.76018</td>\n",
       "    </tr>\n",
       "    <tr>\n",
       "      <th>50</th>\n",
       "      <td>ozone_cloud_fraction</td>\n",
       "      <td>2.020766</td>\n",
       "    </tr>\n",
       "    <tr>\n",
       "      <th>23</th>\n",
       "      <td>nitrogendioxide_no2_slant_column_number_density</td>\n",
       "      <td>1.328679</td>\n",
       "    </tr>\n",
       "    <tr>\n",
       "      <th>53</th>\n",
       "      <td>ozone_solar_azimuth_angle</td>\n",
       "      <td>1.313588</td>\n",
       "    </tr>\n",
       "    <tr>\n",
       "      <th>70</th>\n",
       "      <td>week</td>\n",
       "      <td>1.279133</td>\n",
       "    </tr>\n",
       "    <tr>\n",
       "      <th>18</th>\n",
       "      <td>carbonmonoxide_solar_azimuth_angle</td>\n",
       "      <td>1.169987</td>\n",
       "    </tr>\n",
       "    <tr>\n",
       "      <th>44</th>\n",
       "      <td>uvaerosolindex_solar_azimuth_angle</td>\n",
       "      <td>1.15866</td>\n",
       "    </tr>\n",
       "    <tr>\n",
       "      <th>3</th>\n",
       "      <td>sulphurdioxide_so2_column_number_density_amf</td>\n",
       "      <td>1.044047</td>\n",
       "    </tr>\n",
       "    <tr>\n",
       "      <th>46</th>\n",
       "      <td>ozone_o3_column_number_density</td>\n",
       "      <td>0.998101</td>\n",
       "    </tr>\n",
       "    <tr>\n",
       "      <th>20</th>\n",
       "      <td>nitrogendioxide_no2_column_number_density</td>\n",
       "      <td>0.954353</td>\n",
       "    </tr>\n",
       "    <tr>\n",
       "      <th>57</th>\n",
       "      <td>cloud_cloud_top_height</td>\n",
       "      <td>0.932926</td>\n",
       "    </tr>\n",
       "    <tr>\n",
       "      <th>11</th>\n",
       "      <td>month</td>\n",
       "      <td>0.720405</td>\n",
       "    </tr>\n",
       "    <tr>\n",
       "      <th>58</th>\n",
       "      <td>cloud_cloud_base_pressure</td>\n",
       "      <td>0.699223</td>\n",
       "    </tr>\n",
       "    <tr>\n",
       "      <th>41</th>\n",
       "      <td>uvaerosolindex_sensor_altitude</td>\n",
       "      <td>0.608603</td>\n",
       "    </tr>\n",
       "    <tr>\n",
       "      <th>64</th>\n",
       "      <td>cloud_solar_azimuth_angle</td>\n",
       "      <td>0.588668</td>\n",
       "    </tr>\n",
       "    <tr>\n",
       "      <th>59</th>\n",
       "      <td>cloud_cloud_base_height</td>\n",
       "      <td>0.571889</td>\n",
       "    </tr>\n",
       "    <tr>\n",
       "      <th>21</th>\n",
       "      <td>nitrogendioxide_tropospheric_no2_column_number...</td>\n",
       "      <td>0.55653</td>\n",
       "    </tr>\n",
       "    <tr>\n",
       "      <th>32</th>\n",
       "      <td>formaldehyde_tropospheric_hcho_column_number_d...</td>\n",
       "      <td>0.546445</td>\n",
       "    </tr>\n",
       "    <tr>\n",
       "      <th>25</th>\n",
       "      <td>nitrogendioxide_absorbing_aerosol_index</td>\n",
       "      <td>0.536431</td>\n",
       "    </tr>\n",
       "    <tr>\n",
       "      <th>49</th>\n",
       "      <td>ozone_o3_effective_temperature</td>\n",
       "      <td>0.517991</td>\n",
       "    </tr>\n",
       "    <tr>\n",
       "      <th>37</th>\n",
       "      <td>formaldehyde_solar_azimuth_angle</td>\n",
       "      <td>0.509319</td>\n",
       "    </tr>\n",
       "    <tr>\n",
       "      <th>61</th>\n",
       "      <td>cloud_surface_albedo</td>\n",
       "      <td>0.500521</td>\n",
       "    </tr>\n",
       "    <tr>\n",
       "      <th>30</th>\n",
       "      <td>nitrogendioxide_solar_azimuth_angle</td>\n",
       "      <td>0.482096</td>\n",
       "    </tr>\n",
       "    <tr>\n",
       "      <th>65</th>\n",
       "      <td>cloud_solar_zenith_angle</td>\n",
       "      <td>0.461794</td>\n",
       "    </tr>\n",
       "    <tr>\n",
       "      <th>1</th>\n",
       "      <td>hour</td>\n",
       "      <td>0.434228</td>\n",
       "    </tr>\n",
       "    <tr>\n",
       "      <th>24</th>\n",
       "      <td>nitrogendioxide_tropopause_pressure</td>\n",
       "      <td>0.413995</td>\n",
       "    </tr>\n",
       "    <tr>\n",
       "      <th>60</th>\n",
       "      <td>cloud_cloud_optical_depth</td>\n",
       "      <td>0.396247</td>\n",
       "    </tr>\n",
       "    <tr>\n",
       "      <th>13</th>\n",
       "      <td>carbonmonoxide_h2o_column_number_density</td>\n",
       "      <td>0.394116</td>\n",
       "    </tr>\n",
       "    <tr>\n",
       "      <th>33</th>\n",
       "      <td>formaldehyde_tropospheric_hcho_column_number_d...</td>\n",
       "      <td>0.392301</td>\n",
       "    </tr>\n",
       "    <tr>\n",
       "      <th>40</th>\n",
       "      <td>uvaerosolindex_absorbing_aerosol_index</td>\n",
       "      <td>0.3719</td>\n",
       "    </tr>\n",
       "    <tr>\n",
       "      <th>62</th>\n",
       "      <td>cloud_sensor_azimuth_angle</td>\n",
       "      <td>0.344242</td>\n",
       "    </tr>\n",
       "    <tr>\n",
       "      <th>47</th>\n",
       "      <td>ozone_o3_column_number_density_amf</td>\n",
       "      <td>0.329083</td>\n",
       "    </tr>\n",
       "    <tr>\n",
       "      <th>5</th>\n",
       "      <td>sulphurdioxide_cloud_fraction</td>\n",
       "      <td>0.320293</td>\n",
       "    </tr>\n",
       "    <tr>\n",
       "      <th>35</th>\n",
       "      <td>formaldehyde_cloud_fraction</td>\n",
       "      <td>0.304425</td>\n",
       "    </tr>\n",
       "    <tr>\n",
       "      <th>54</th>\n",
       "      <td>ozone_solar_zenith_angle</td>\n",
       "      <td>0.302313</td>\n",
       "    </tr>\n",
       "    <tr>\n",
       "      <th>34</th>\n",
       "      <td>formaldehyde_hcho_slant_column_number_density</td>\n",
       "      <td>0.297735</td>\n",
       "    </tr>\n",
       "    <tr>\n",
       "      <th>51</th>\n",
       "      <td>ozone_sensor_azimuth_angle</td>\n",
       "      <td>0.286735</td>\n",
       "    </tr>\n",
       "    <tr>\n",
       "      <th>26</th>\n",
       "      <td>nitrogendioxide_cloud_fraction</td>\n",
       "      <td>0.258565</td>\n",
       "    </tr>\n",
       "    <tr>\n",
       "      <th>69</th>\n",
       "      <td>day</td>\n",
       "      <td>0.251463</td>\n",
       "    </tr>\n",
       "    <tr>\n",
       "      <th>56</th>\n",
       "      <td>cloud_cloud_top_pressure</td>\n",
       "      <td>0.232063</td>\n",
       "    </tr>\n",
       "    <tr>\n",
       "      <th>42</th>\n",
       "      <td>uvaerosolindex_sensor_azimuth_angle</td>\n",
       "      <td>0.231807</td>\n",
       "    </tr>\n",
       "    <tr>\n",
       "      <th>17</th>\n",
       "      <td>carbonmonoxide_sensor_zenith_angle</td>\n",
       "      <td>0.22486</td>\n",
       "    </tr>\n",
       "    <tr>\n",
       "      <th>16</th>\n",
       "      <td>carbonmonoxide_sensor_azimuth_angle</td>\n",
       "      <td>0.224498</td>\n",
       "    </tr>\n",
       "    <tr>\n",
       "      <th>22</th>\n",
       "      <td>nitrogendioxide_stratospheric_no2_column_numbe...</td>\n",
       "      <td>0.21567</td>\n",
       "    </tr>\n",
       "    <tr>\n",
       "      <th>36</th>\n",
       "      <td>formaldehyde_solar_zenith_angle</td>\n",
       "      <td>0.20812</td>\n",
       "    </tr>\n",
       "    <tr>\n",
       "      <th>68</th>\n",
       "      <td>quarter</td>\n",
       "      <td>0.207932</td>\n",
       "    </tr>\n",
       "    <tr>\n",
       "      <th>8</th>\n",
       "      <td>sulphurdioxide_solar_azimuth_angle</td>\n",
       "      <td>0.200475</td>\n",
       "    </tr>\n",
       "    <tr>\n",
       "      <th>2</th>\n",
       "      <td>sulphurdioxide_so2_column_number_density</td>\n",
       "      <td>0.190314</td>\n",
       "    </tr>\n",
       "    <tr>\n",
       "      <th>29</th>\n",
       "      <td>nitrogendioxide_sensor_zenith_angle</td>\n",
       "      <td>0.185676</td>\n",
       "    </tr>\n",
       "    <tr>\n",
       "      <th>45</th>\n",
       "      <td>uvaerosolindex_solar_zenith_angle</td>\n",
       "      <td>0.184124</td>\n",
       "    </tr>\n",
       "    <tr>\n",
       "      <th>48</th>\n",
       "      <td>ozone_o3_slant_column_number_density</td>\n",
       "      <td>0.178772</td>\n",
       "    </tr>\n",
       "    <tr>\n",
       "      <th>55</th>\n",
       "      <td>cloud_cloud_fraction</td>\n",
       "      <td>0.162278</td>\n",
       "    </tr>\n",
       "    <tr>\n",
       "      <th>43</th>\n",
       "      <td>uvaerosolindex_sensor_zenith_angle</td>\n",
       "      <td>0.154547</td>\n",
       "    </tr>\n",
       "    <tr>\n",
       "      <th>19</th>\n",
       "      <td>carbonmonoxide_solar_zenith_angle</td>\n",
       "      <td>0.152159</td>\n",
       "    </tr>\n",
       "    <tr>\n",
       "      <th>9</th>\n",
       "      <td>sulphurdioxide_solar_zenith_angle</td>\n",
       "      <td>0.135832</td>\n",
       "    </tr>\n",
       "    <tr>\n",
       "      <th>38</th>\n",
       "      <td>formaldehyde_sensor_zenith_angle</td>\n",
       "      <td>0.133493</td>\n",
       "    </tr>\n",
       "    <tr>\n",
       "      <th>63</th>\n",
       "      <td>cloud_sensor_zenith_angle</td>\n",
       "      <td>0.133398</td>\n",
       "    </tr>\n",
       "    <tr>\n",
       "      <th>28</th>\n",
       "      <td>nitrogendioxide_sensor_azimuth_angle</td>\n",
       "      <td>0.127696</td>\n",
       "    </tr>\n",
       "    <tr>\n",
       "      <th>31</th>\n",
       "      <td>nitrogendioxide_solar_zenith_angle</td>\n",
       "      <td>0.119932</td>\n",
       "    </tr>\n",
       "    <tr>\n",
       "      <th>6</th>\n",
       "      <td>sulphurdioxide_sensor_azimuth_angle</td>\n",
       "      <td>0.119162</td>\n",
       "    </tr>\n",
       "    <tr>\n",
       "      <th>14</th>\n",
       "      <td>carbonmonoxide_cloud_height</td>\n",
       "      <td>0.113163</td>\n",
       "    </tr>\n",
       "    <tr>\n",
       "      <th>27</th>\n",
       "      <td>nitrogendioxide_sensor_altitude</td>\n",
       "      <td>0.098336</td>\n",
       "    </tr>\n",
       "    <tr>\n",
       "      <th>52</th>\n",
       "      <td>ozone_sensor_zenith_angle</td>\n",
       "      <td>0.097488</td>\n",
       "    </tr>\n",
       "    <tr>\n",
       "      <th>39</th>\n",
       "      <td>formaldehyde_sensor_azimuth_angle</td>\n",
       "      <td>0.090065</td>\n",
       "    </tr>\n",
       "    <tr>\n",
       "      <th>15</th>\n",
       "      <td>carbonmonoxide_sensor_altitude</td>\n",
       "      <td>0.087186</td>\n",
       "    </tr>\n",
       "    <tr>\n",
       "      <th>4</th>\n",
       "      <td>sulphurdioxide_so2_slant_column_number_density</td>\n",
       "      <td>0.064199</td>\n",
       "    </tr>\n",
       "    <tr>\n",
       "      <th>10</th>\n",
       "      <td>sulphurdioxide_so2_column_number_density_15km</td>\n",
       "      <td>0.044284</td>\n",
       "    </tr>\n",
       "    <tr>\n",
       "      <th>67</th>\n",
       "      <td>year</td>\n",
       "      <td>0.032175</td>\n",
       "    </tr>\n",
       "    <tr>\n",
       "      <th>7</th>\n",
       "      <td>sulphurdioxide_sensor_zenith_angle</td>\n",
       "      <td>0.002877</td>\n",
       "    </tr>\n",
       "  </tbody>\n",
       "</table>\n",
       "</div>"
      ],
      "text/plain": [
       "                                         feature_name varimp (%)\n",
       "66                                           location   59.23048\n",
       "12            carbonmonoxide_co_column_number_density   8.058968\n",
       "0                                                date    3.76018\n",
       "50                               ozone_cloud_fraction   2.020766\n",
       "23    nitrogendioxide_no2_slant_column_number_density   1.328679\n",
       "53                          ozone_solar_azimuth_angle   1.313588\n",
       "70                                               week   1.279133\n",
       "18                 carbonmonoxide_solar_azimuth_angle   1.169987\n",
       "44                 uvaerosolindex_solar_azimuth_angle    1.15866\n",
       "3        sulphurdioxide_so2_column_number_density_amf   1.044047\n",
       "46                     ozone_o3_column_number_density   0.998101\n",
       "20          nitrogendioxide_no2_column_number_density   0.954353\n",
       "57                             cloud_cloud_top_height   0.932926\n",
       "11                                              month   0.720405\n",
       "58                          cloud_cloud_base_pressure   0.699223\n",
       "41                     uvaerosolindex_sensor_altitude   0.608603\n",
       "64                          cloud_solar_azimuth_angle   0.588668\n",
       "59                            cloud_cloud_base_height   0.571889\n",
       "21  nitrogendioxide_tropospheric_no2_column_number...    0.55653\n",
       "32  formaldehyde_tropospheric_hcho_column_number_d...   0.546445\n",
       "25            nitrogendioxide_absorbing_aerosol_index   0.536431\n",
       "49                     ozone_o3_effective_temperature   0.517991\n",
       "37                   formaldehyde_solar_azimuth_angle   0.509319\n",
       "61                               cloud_surface_albedo   0.500521\n",
       "30                nitrogendioxide_solar_azimuth_angle   0.482096\n",
       "65                           cloud_solar_zenith_angle   0.461794\n",
       "1                                                hour   0.434228\n",
       "24                nitrogendioxide_tropopause_pressure   0.413995\n",
       "60                          cloud_cloud_optical_depth   0.396247\n",
       "13           carbonmonoxide_h2o_column_number_density   0.394116\n",
       "33  formaldehyde_tropospheric_hcho_column_number_d...   0.392301\n",
       "40             uvaerosolindex_absorbing_aerosol_index     0.3719\n",
       "62                         cloud_sensor_azimuth_angle   0.344242\n",
       "47                 ozone_o3_column_number_density_amf   0.329083\n",
       "5                       sulphurdioxide_cloud_fraction   0.320293\n",
       "35                        formaldehyde_cloud_fraction   0.304425\n",
       "54                           ozone_solar_zenith_angle   0.302313\n",
       "34      formaldehyde_hcho_slant_column_number_density   0.297735\n",
       "51                         ozone_sensor_azimuth_angle   0.286735\n",
       "26                     nitrogendioxide_cloud_fraction   0.258565\n",
       "69                                                day   0.251463\n",
       "56                           cloud_cloud_top_pressure   0.232063\n",
       "42                uvaerosolindex_sensor_azimuth_angle   0.231807\n",
       "17                 carbonmonoxide_sensor_zenith_angle    0.22486\n",
       "16                carbonmonoxide_sensor_azimuth_angle   0.224498\n",
       "22  nitrogendioxide_stratospheric_no2_column_numbe...    0.21567\n",
       "36                    formaldehyde_solar_zenith_angle    0.20812\n",
       "68                                            quarter   0.207932\n",
       "8                  sulphurdioxide_solar_azimuth_angle   0.200475\n",
       "2            sulphurdioxide_so2_column_number_density   0.190314\n",
       "29                nitrogendioxide_sensor_zenith_angle   0.185676\n",
       "45                  uvaerosolindex_solar_zenith_angle   0.184124\n",
       "48               ozone_o3_slant_column_number_density   0.178772\n",
       "55                               cloud_cloud_fraction   0.162278\n",
       "43                 uvaerosolindex_sensor_zenith_angle   0.154547\n",
       "19                  carbonmonoxide_solar_zenith_angle   0.152159\n",
       "9                   sulphurdioxide_solar_zenith_angle   0.135832\n",
       "38                   formaldehyde_sensor_zenith_angle   0.133493\n",
       "63                          cloud_sensor_zenith_angle   0.133398\n",
       "28               nitrogendioxide_sensor_azimuth_angle   0.127696\n",
       "31                 nitrogendioxide_solar_zenith_angle   0.119932\n",
       "6                 sulphurdioxide_sensor_azimuth_angle   0.119162\n",
       "14                        carbonmonoxide_cloud_height   0.113163\n",
       "27                    nitrogendioxide_sensor_altitude   0.098336\n",
       "52                          ozone_sensor_zenith_angle   0.097488\n",
       "39                  formaldehyde_sensor_azimuth_angle   0.090065\n",
       "15                     carbonmonoxide_sensor_altitude   0.087186\n",
       "4      sulphurdioxide_so2_slant_column_number_density   0.064199\n",
       "10      sulphurdioxide_so2_column_number_density_15km   0.044284\n",
       "67                                               year   0.032175\n",
       "7                  sulphurdioxide_sensor_zenith_angle   0.002877"
      ]
     },
     "execution_count": 14,
     "metadata": {},
     "output_type": "execute_result"
    }
   ],
   "source": [
    "#define a function to create variable importance dataframe\n",
    "def get_catt_varimp(model, train_columns, max_vars=350):\n",
    "\n",
    "    # Scikit-learn API LGBMClassifier or LGBMRegressor was fitted,\n",
    "    # so using feature_importances_ property\n",
    "    feature_importances_perc = (model.feature_importances_ / sum(model.feature_importances_)) * 100\n",
    "    cv_varimp_df = pd.DataFrame([train_columns, feature_importances_perc]).T\n",
    "\n",
    "    cv_varimp_df.columns = ['feature_name', 'varimp (%)']\n",
    "\n",
    "    cv_varimp_df.sort_values(by='varimp (%)', ascending=False, inplace=True)\n",
    "\n",
    "    cv_varimp_df = cv_varimp_df.iloc[0:max_vars]\n",
    "\n",
    "    return cv_varimp_df\n",
    "#\n",
    "get_catt_varimp(model, independent_features)"
   ]
  },
  {
   "cell_type": "markdown",
   "id": "5cb670c5",
   "metadata": {
    "id": "cbzH1v-xcSPY",
    "papermill": {
     "duration": 0.01532,
     "end_time": "2024-06-18T09:25:11.281785",
     "exception": false,
     "start_time": "2024-06-18T09:25:11.266465",
     "status": "completed"
    },
    "tags": []
   },
   "source": [
    "## Selecting Important Features\n",
    "\n",
    "Filter non-zero important features and drop highly correlated ones."
   ]
  },
  {
   "cell_type": "code",
   "execution_count": 15,
   "id": "da563c41",
   "metadata": {
    "execution": {
     "iopub.execute_input": "2024-06-18T09:25:11.314877Z",
     "iopub.status.busy": "2024-06-18T09:25:11.314439Z",
     "iopub.status.idle": "2024-06-18T09:25:11.329292Z",
     "shell.execute_reply": "2024-06-18T09:25:11.327789Z"
    },
    "id": "E7Rj0R0JKCTZ",
    "outputId": "06e3da9a-8aa8-4ce9-d87c-956b6c372d35",
    "papermill": {
     "duration": 0.034588,
     "end_time": "2024-06-18T09:25:11.332052",
     "exception": false,
     "start_time": "2024-06-18T09:25:11.297464",
     "status": "completed"
    },
    "tags": []
   },
   "outputs": [
    {
     "data": {
      "text/plain": [
       "array(['date', 'hour', 'sulphurdioxide_so2_column_number_density',\n",
       "       'sulphurdioxide_so2_column_number_density_amf',\n",
       "       'sulphurdioxide_so2_slant_column_number_density',\n",
       "       'sulphurdioxide_cloud_fraction',\n",
       "       'sulphurdioxide_sensor_azimuth_angle',\n",
       "       'sulphurdioxide_sensor_zenith_angle',\n",
       "       'sulphurdioxide_solar_azimuth_angle',\n",
       "       'sulphurdioxide_solar_zenith_angle',\n",
       "       'sulphurdioxide_so2_column_number_density_15km', 'month',\n",
       "       'carbonmonoxide_co_column_number_density',\n",
       "       'carbonmonoxide_h2o_column_number_density',\n",
       "       'carbonmonoxide_cloud_height', 'carbonmonoxide_sensor_altitude',\n",
       "       'carbonmonoxide_sensor_azimuth_angle',\n",
       "       'carbonmonoxide_sensor_zenith_angle',\n",
       "       'carbonmonoxide_solar_azimuth_angle',\n",
       "       'carbonmonoxide_solar_zenith_angle',\n",
       "       'nitrogendioxide_no2_column_number_density',\n",
       "       'nitrogendioxide_tropospheric_no2_column_number_density',\n",
       "       'nitrogendioxide_stratospheric_no2_column_number_density',\n",
       "       'nitrogendioxide_no2_slant_column_number_density',\n",
       "       'nitrogendioxide_tropopause_pressure',\n",
       "       'nitrogendioxide_absorbing_aerosol_index',\n",
       "       'nitrogendioxide_cloud_fraction',\n",
       "       'nitrogendioxide_sensor_altitude',\n",
       "       'nitrogendioxide_sensor_azimuth_angle',\n",
       "       'nitrogendioxide_sensor_zenith_angle',\n",
       "       'nitrogendioxide_solar_azimuth_angle',\n",
       "       'nitrogendioxide_solar_zenith_angle',\n",
       "       'formaldehyde_tropospheric_hcho_column_number_density',\n",
       "       'formaldehyde_tropospheric_hcho_column_number_density_amf',\n",
       "       'formaldehyde_hcho_slant_column_number_density',\n",
       "       'formaldehyde_cloud_fraction', 'formaldehyde_solar_zenith_angle',\n",
       "       'formaldehyde_solar_azimuth_angle',\n",
       "       'formaldehyde_sensor_zenith_angle',\n",
       "       'formaldehyde_sensor_azimuth_angle',\n",
       "       'uvaerosolindex_absorbing_aerosol_index',\n",
       "       'uvaerosolindex_sensor_altitude',\n",
       "       'uvaerosolindex_sensor_azimuth_angle',\n",
       "       'uvaerosolindex_sensor_zenith_angle',\n",
       "       'uvaerosolindex_solar_azimuth_angle',\n",
       "       'uvaerosolindex_solar_zenith_angle',\n",
       "       'ozone_o3_column_number_density',\n",
       "       'ozone_o3_column_number_density_amf',\n",
       "       'ozone_o3_slant_column_number_density',\n",
       "       'ozone_o3_effective_temperature', 'ozone_cloud_fraction',\n",
       "       'ozone_sensor_azimuth_angle', 'ozone_sensor_zenith_angle',\n",
       "       'ozone_solar_azimuth_angle', 'ozone_solar_zenith_angle',\n",
       "       'cloud_cloud_fraction', 'cloud_cloud_top_pressure',\n",
       "       'cloud_cloud_top_height', 'cloud_cloud_base_pressure',\n",
       "       'cloud_cloud_base_height', 'cloud_cloud_optical_depth',\n",
       "       'cloud_surface_albedo', 'cloud_sensor_azimuth_angle',\n",
       "       'cloud_sensor_zenith_angle', 'cloud_solar_azimuth_angle',\n",
       "       'cloud_solar_zenith_angle', 'location', 'year', 'quarter', 'day',\n",
       "       'week'], dtype=object)"
      ]
     },
     "execution_count": 15,
     "metadata": {},
     "output_type": "execute_result"
    }
   ],
   "source": [
    "feature_importances_perc = (model.feature_importances_ / sum(model.feature_importances_)) * 100\n",
    "cv_varimp_df = pd.DataFrame([independent_features, feature_importances_perc]).T\n",
    "non_zero_features = cv_varimp_df[cv_varimp_df[1]> 0][0].values\n",
    "non_zero_features"
   ]
  },
  {
   "cell_type": "code",
   "execution_count": 16,
   "id": "8fd196e6",
   "metadata": {
    "execution": {
     "iopub.execute_input": "2024-06-18T09:25:11.366531Z",
     "iopub.status.busy": "2024-06-18T09:25:11.366095Z",
     "iopub.status.idle": "2024-06-18T09:25:11.373293Z",
     "shell.execute_reply": "2024-06-18T09:25:11.372176Z"
    },
    "id": "SiMRwvYaKCTa",
    "outputId": "03068f9d-a63b-4d88-c497-86cca7487c22",
    "papermill": {
     "duration": 0.027189,
     "end_time": "2024-06-18T09:25:11.375788",
     "exception": false,
     "start_time": "2024-06-18T09:25:11.348599",
     "status": "completed"
    },
    "tags": []
   },
   "outputs": [
    {
     "data": {
      "text/plain": [
       "71"
      ]
     },
     "execution_count": 16,
     "metadata": {},
     "output_type": "execute_result"
    }
   ],
   "source": [
    "len(non_zero_features)"
   ]
  },
  {
   "cell_type": "markdown",
   "id": "5050e7e3",
   "metadata": {
    "id": "UNYNYU4FKCTa",
    "papermill": {
     "duration": 0.015804,
     "end_time": "2024-06-18T09:25:11.407695",
     "exception": false,
     "start_time": "2024-06-18T09:25:11.391891",
     "status": "completed"
    },
    "tags": []
   },
   "source": [
    "#### Dropping highly correlated features"
   ]
  },
  {
   "cell_type": "code",
   "execution_count": 17,
   "id": "47eade37",
   "metadata": {
    "execution": {
     "iopub.execute_input": "2024-06-18T09:25:11.442258Z",
     "iopub.status.busy": "2024-06-18T09:25:11.441789Z",
     "iopub.status.idle": "2024-06-18T09:25:11.645369Z",
     "shell.execute_reply": "2024-06-18T09:25:11.644118Z"
    },
    "id": "xZ0VW6nVKCTa",
    "outputId": "76927571-23f6-47a3-a5dc-1e7069a7f6e2",
    "papermill": {
     "duration": 0.223802,
     "end_time": "2024-06-18T09:25:11.648188",
     "exception": false,
     "start_time": "2024-06-18T09:25:11.424386",
     "status": "completed"
    },
    "tags": []
   },
   "outputs": [
    {
     "data": {
      "text/plain": [
       "Index(['date', 'hour', 'sulphurdioxide_so2_column_number_density',\n",
       "       'sulphurdioxide_so2_column_number_density_amf',\n",
       "       'sulphurdioxide_cloud_fraction', 'sulphurdioxide_sensor_azimuth_angle',\n",
       "       'sulphurdioxide_sensor_zenith_angle',\n",
       "       'sulphurdioxide_solar_azimuth_angle',\n",
       "       'sulphurdioxide_solar_zenith_angle', 'month',\n",
       "       'carbonmonoxide_co_column_number_density',\n",
       "       'carbonmonoxide_h2o_column_number_density',\n",
       "       'carbonmonoxide_cloud_height', 'carbonmonoxide_sensor_altitude',\n",
       "       'carbonmonoxide_sensor_azimuth_angle',\n",
       "       'carbonmonoxide_sensor_zenith_angle',\n",
       "       'carbonmonoxide_solar_zenith_angle',\n",
       "       'nitrogendioxide_no2_column_number_density',\n",
       "       'nitrogendioxide_stratospheric_no2_column_number_density',\n",
       "       'nitrogendioxide_no2_slant_column_number_density',\n",
       "       'nitrogendioxide_tropopause_pressure',\n",
       "       'nitrogendioxide_absorbing_aerosol_index',\n",
       "       'nitrogendioxide_cloud_fraction',\n",
       "       'nitrogendioxide_sensor_azimuth_angle',\n",
       "       'formaldehyde_tropospheric_hcho_column_number_density',\n",
       "       'formaldehyde_tropospheric_hcho_column_number_density_amf',\n",
       "       'formaldehyde_cloud_fraction', 'uvaerosolindex_absorbing_aerosol_index',\n",
       "       'uvaerosolindex_sensor_altitude', 'uvaerosolindex_sensor_azimuth_angle',\n",
       "       'uvaerosolindex_sensor_zenith_angle',\n",
       "       'uvaerosolindex_solar_zenith_angle', 'ozone_o3_column_number_density',\n",
       "       'ozone_o3_effective_temperature', 'ozone_cloud_fraction',\n",
       "       'cloud_cloud_fraction', 'cloud_cloud_top_pressure',\n",
       "       'cloud_cloud_top_height', 'cloud_cloud_optical_depth',\n",
       "       'cloud_surface_albedo', 'cloud_sensor_azimuth_angle',\n",
       "       'cloud_sensor_zenith_angle', 'cloud_solar_zenith_angle', 'location',\n",
       "       'year', 'day'],\n",
       "      dtype='object')"
      ]
     },
     "execution_count": 17,
     "metadata": {},
     "output_type": "execute_result"
    }
   ],
   "source": [
    "corr = training[non_zero_features].corr()\n",
    "columns = np.full((corr.shape[0],), True, dtype=bool)\n",
    "for i in range(corr.shape[0]):\n",
    "    for j in range(i+1, corr.shape[0]):\n",
    "        if corr.iloc[i, j] >= 0.9:\n",
    "            if columns[j]:\n",
    "                columns[j] = False\n",
    "selected_columns = training[non_zero_features].columns[columns]\n",
    "selected_columns"
   ]
  },
  {
   "cell_type": "code",
   "execution_count": 18,
   "id": "76bd8254",
   "metadata": {
    "execution": {
     "iopub.execute_input": "2024-06-18T09:25:11.684292Z",
     "iopub.status.busy": "2024-06-18T09:25:11.683392Z",
     "iopub.status.idle": "2024-06-18T09:25:11.691823Z",
     "shell.execute_reply": "2024-06-18T09:25:11.690606Z"
    },
    "id": "6fRHpsPuKCTa",
    "outputId": "b2fe679d-f9b7-4c5e-d31f-a2e40b149ae2",
    "papermill": {
     "duration": 0.029834,
     "end_time": "2024-06-18T09:25:11.694967",
     "exception": false,
     "start_time": "2024-06-18T09:25:11.665133",
     "status": "completed"
    },
    "tags": []
   },
   "outputs": [
    {
     "data": {
      "text/plain": [
       "46"
      ]
     },
     "execution_count": 18,
     "metadata": {},
     "output_type": "execute_result"
    }
   ],
   "source": [
    "len(selected_columns)"
   ]
  },
  {
   "cell_type": "markdown",
   "id": "886ecf68",
   "metadata": {
    "id": "VsB7LMducfZI",
    "papermill": {
     "duration": 0.016575,
     "end_time": "2024-06-18T09:25:11.728129",
     "exception": false,
     "start_time": "2024-06-18T09:25:11.711554",
     "status": "completed"
    },
    "tags": []
   },
   "source": [
    "## Cross-Validation and Model Evaluation\n",
    "\n",
    "Perform cross-validation and evaluate the model performance.\n"
   ]
  },
  {
   "cell_type": "code",
   "execution_count": 19,
   "id": "87a5adaf",
   "metadata": {
    "execution": {
     "iopub.execute_input": "2024-06-18T09:25:11.764334Z",
     "iopub.status.busy": "2024-06-18T09:25:11.763848Z",
     "iopub.status.idle": "2024-06-18T09:25:26.983690Z",
     "shell.execute_reply": "2024-06-18T09:25:26.982252Z"
    },
    "id": "GZQ-adV0KCTb",
    "outputId": "d6f9ab2d-8f89-4928-cff6-171b3d59c9aa",
    "papermill": {
     "duration": 15.24179,
     "end_time": "2024-06-18T09:25:26.986578",
     "exception": false,
     "start_time": "2024-06-18T09:25:11.744788",
     "status": "completed"
    },
    "tags": []
   },
   "outputs": [
    {
     "name": "stdout",
     "output_type": "stream",
     "text": [
      "****************************************************************************************************\n",
      "Learning rate set to 0.058707\n",
      "0:\tlearn: 16.5497466\ttest: 13.1196721\tbest: 13.1196721 (0)\ttotal: 10ms\tremaining: 10s\n",
      "100:\tlearn: 8.6415516\ttest: 12.2130378\tbest: 12.0829675 (50)\ttotal: 638ms\tremaining: 5.68s\n",
      "200:\tlearn: 6.6753071\ttest: 12.5087566\tbest: 12.0829675 (50)\ttotal: 1.28s\tremaining: 5.07s\n",
      "300:\tlearn: 5.4873002\ttest: 12.6491085\tbest: 12.0829675 (50)\ttotal: 1.9s\tremaining: 4.42s\n",
      "Stopped by overfitting detector  (250 iterations wait)\n",
      "\n",
      "bestTest = 12.08296751\n",
      "bestIteration = 50\n",
      "\n",
      "Shrink model to first 51 iterations.\n",
      "RMSE for fold :1 : 12.082967288611616\n",
      "****************************************************************************************************\n",
      "Learning rate set to 0.068433\n",
      "0:\tlearn: 14.4437105\ttest: 13.1401303\tbest: 13.1401303 (0)\ttotal: 9.09ms\tremaining: 9.07s\n",
      "100:\tlearn: 8.2409326\ttest: 11.0850785\tbest: 11.0850785 (100)\ttotal: 748ms\tremaining: 6.66s\n",
      "200:\tlearn: 6.8337983\ttest: 11.1602881\tbest: 11.0545041 (143)\ttotal: 1.49s\tremaining: 5.94s\n",
      "300:\tlearn: 6.0960968\ttest: 11.2254571\tbest: 11.0545041 (143)\ttotal: 2.22s\tremaining: 5.17s\n",
      "Stopped by overfitting detector  (250 iterations wait)\n",
      "\n",
      "bestTest = 11.05450407\n",
      "bestIteration = 143\n",
      "\n",
      "Shrink model to first 144 iterations.\n",
      "RMSE for fold :2 : 11.054503922230136\n",
      "****************************************************************************************************\n",
      "Learning rate set to 0.069451\n",
      "0:\tlearn: 12.8291781\ttest: 23.1396735\tbest: 23.1396735 (0)\ttotal: 8ms\tremaining: 8s\n",
      "100:\tlearn: 7.8073439\ttest: 17.3846807\tbest: 17.3846298 (99)\ttotal: 777ms\tremaining: 6.91s\n",
      "200:\tlearn: 6.6733328\ttest: 17.0386856\tbest: 17.0249110 (181)\ttotal: 1.52s\tremaining: 6.05s\n",
      "300:\tlearn: 5.9243479\ttest: 16.4220207\tbest: 16.4220207 (300)\ttotal: 2.27s\tremaining: 5.26s\n",
      "400:\tlearn: 5.4534391\ttest: 15.9838905\tbest: 15.9838905 (400)\ttotal: 3.06s\tremaining: 4.57s\n",
      "500:\tlearn: 5.1008065\ttest: 15.8187317\tbest: 15.8179420 (499)\ttotal: 3.81s\tremaining: 3.79s\n",
      "600:\tlearn: 4.7865193\ttest: 15.7174815\tbest: 15.7174815 (600)\ttotal: 4.54s\tremaining: 3.02s\n",
      "700:\tlearn: 4.5226637\ttest: 15.6790538\tbest: 15.6751359 (687)\ttotal: 5.3s\tremaining: 2.26s\n",
      "800:\tlearn: 4.2856951\ttest: 15.6882562\tbest: 15.6579916 (709)\ttotal: 6.06s\tremaining: 1.5s\n",
      "900:\tlearn: 4.0958036\ttest: 15.7127835\tbest: 15.6579916 (709)\ttotal: 6.8s\tremaining: 747ms\n",
      "Stopped by overfitting detector  (250 iterations wait)\n",
      "\n",
      "bestTest = 15.6579916\n",
      "bestIteration = 709\n",
      "\n",
      "Shrink model to first 710 iterations.\n",
      "RMSE for fold :3 : 15.657991344757486\n",
      "****************************************************************************************************\n",
      "Learning rate set to 0.070508\n",
      "0:\tlearn: 14.1362149\ttest: 16.4365794\tbest: 16.4365794 (0)\ttotal: 9.09ms\tremaining: 9.08s\n",
      "100:\tlearn: 8.4941568\ttest: 11.6236651\tbest: 11.4025529 (68)\ttotal: 789ms\tremaining: 7.02s\n",
      "200:\tlearn: 7.1462178\ttest: 11.8404180\tbest: 11.4025529 (68)\ttotal: 1.55s\tremaining: 6.17s\n",
      "300:\tlearn: 6.3957519\ttest: 11.9416704\tbest: 11.4025529 (68)\ttotal: 2.31s\tremaining: 5.36s\n",
      "Stopped by overfitting detector  (250 iterations wait)\n",
      "\n",
      "bestTest = 11.40255288\n",
      "bestIteration = 68\n",
      "\n",
      "Shrink model to first 69 iterations.\n",
      "RMSE for fold :4 : 11.402552845135991\n",
      "The average rmse across the 4 groups: 12.549503850183807\n"
     ]
    }
   ],
   "source": [
    "fold_pred = []\n",
    "oof_pred = []\n",
    "\n",
    "for fold in [1,2,3,4]:\n",
    "    print(\"*\" * 100)\n",
    "    train_df[dependent_feature] = np.where(train_df[dependent_feature] >= train_df[dependent_feature].quantile(0.97), train_df[dependent_feature].quantile(0.97), train_df[dependent_feature])\n",
    "\n",
    "    training = train_df[train_df['folds'] != fold]\n",
    "    validation = train_df[train_df['folds'] == fold]\n",
    "\n",
    "\n",
    "\n",
    "    #training and evaluation\n",
    "    y_train = training[dependent_feature]\n",
    "    y_test = validation[dependent_feature]\n",
    "\n",
    "    X_train = training[selected_columns]\n",
    "    X_test = validation[selected_columns]\n",
    "\n",
    "    model = catt.CatBoostRegressor(random_state = 42, eval_metric = 'RMSE')\n",
    "    model.fit(X_train, y_train, eval_set = (X_test, y_test), verbose = 100, early_stopping_rounds = 250 )\n",
    "\n",
    "    preds = model.predict(X_test)\n",
    "    print(f\"RMSE for fold :{fold} : {(mean_squared_error(preds, y_test, squared=False))}\")\n",
    "    oof_pred.append(mean_squared_error(preds, y_test, squared=False))\n",
    "\n",
    "    #Inference\n",
    "    test_preds = model.predict(test_df[selected_columns])\n",
    "    fold_pred.append(test_preds)\n",
    "\n",
    "\n",
    "\n",
    "print(f\"The average rmse across the 4 groups: {np.mean(oof_pred)}\")\n",
    "\n"
   ]
  },
  {
   "cell_type": "markdown",
   "id": "22d02822",
   "metadata": {
    "id": "Oo2Y3PzXKCTd",
    "papermill": {
     "duration": 0.018185,
     "end_time": "2024-06-18T09:25:27.023736",
     "exception": false,
     "start_time": "2024-06-18T09:25:27.005551",
     "status": "completed"
    },
    "tags": []
   },
   "source": [
    "#### Submission"
   ]
  },
  {
   "cell_type": "code",
   "execution_count": 20,
   "id": "142bb6ae",
   "metadata": {
    "execution": {
     "iopub.execute_input": "2024-06-18T09:25:27.065290Z",
     "iopub.status.busy": "2024-06-18T09:25:27.064838Z",
     "iopub.status.idle": "2024-06-18T09:25:27.072484Z",
     "shell.execute_reply": "2024-06-18T09:25:27.071371Z"
    },
    "id": "i-NT8dUQKCTd",
    "outputId": "b466cbdb-0453-430d-b05e-e1ca309b9b70",
    "papermill": {
     "duration": 0.031068,
     "end_time": "2024-06-18T09:25:27.074801",
     "exception": false,
     "start_time": "2024-06-18T09:25:27.043733",
     "status": "completed"
    },
    "tags": []
   },
   "outputs": [
    {
     "data": {
      "text/plain": [
       "(2783, 72)"
      ]
     },
     "execution_count": 20,
     "metadata": {},
     "output_type": "execute_result"
    }
   ],
   "source": [
    "test.shape"
   ]
  },
  {
   "cell_type": "code",
   "execution_count": 21,
   "id": "a7d7884d",
   "metadata": {
    "execution": {
     "iopub.execute_input": "2024-06-18T09:25:27.114159Z",
     "iopub.status.busy": "2024-06-18T09:25:27.113727Z",
     "iopub.status.idle": "2024-06-18T09:25:27.129286Z",
     "shell.execute_reply": "2024-06-18T09:25:27.128006Z"
    },
    "id": "KEyqUyFbKCTe",
    "outputId": "b437ff25-4a25-4ed9-b22d-a0bc6ac03844",
    "papermill": {
     "duration": 0.038354,
     "end_time": "2024-06-18T09:25:27.132138",
     "exception": false,
     "start_time": "2024-06-18T09:25:27.093784",
     "status": "completed"
    },
    "tags": []
   },
   "outputs": [
    {
     "data": {
      "text/html": [
       "<div>\n",
       "<style scoped>\n",
       "    .dataframe tbody tr th:only-of-type {\n",
       "        vertical-align: middle;\n",
       "    }\n",
       "\n",
       "    .dataframe tbody tr th {\n",
       "        vertical-align: top;\n",
       "    }\n",
       "\n",
       "    .dataframe thead th {\n",
       "        text-align: right;\n",
       "    }\n",
       "</style>\n",
       "<table border=\"1\" class=\"dataframe\">\n",
       "  <thead>\n",
       "    <tr style=\"text-align: right;\">\n",
       "      <th></th>\n",
       "      <th>id</th>\n",
       "      <th>pred</th>\n",
       "    </tr>\n",
       "  </thead>\n",
       "  <tbody>\n",
       "    <tr>\n",
       "      <th>214</th>\n",
       "      <td>id_yorywxet0a</td>\n",
       "      <td>22.633410</td>\n",
       "    </tr>\n",
       "    <tr>\n",
       "      <th>215</th>\n",
       "      <td>id_9rhbkh8kye</td>\n",
       "      <td>20.543943</td>\n",
       "    </tr>\n",
       "    <tr>\n",
       "      <th>216</th>\n",
       "      <td>id_oh2pg7ik9m</td>\n",
       "      <td>20.126874</td>\n",
       "    </tr>\n",
       "    <tr>\n",
       "      <th>217</th>\n",
       "      <td>id_u5xtrnbshq</td>\n",
       "      <td>22.017378</td>\n",
       "    </tr>\n",
       "    <tr>\n",
       "      <th>218</th>\n",
       "      <td>id_pfcdhqpggy</td>\n",
       "      <td>17.442497</td>\n",
       "    </tr>\n",
       "  </tbody>\n",
       "</table>\n",
       "</div>"
      ],
      "text/plain": [
       "                id       pred\n",
       "214  id_yorywxet0a  22.633410\n",
       "215  id_9rhbkh8kye  20.543943\n",
       "216  id_oh2pg7ik9m  20.126874\n",
       "217  id_u5xtrnbshq  22.017378\n",
       "218  id_pfcdhqpggy  17.442497"
      ]
     },
     "execution_count": 21,
     "metadata": {},
     "output_type": "execute_result"
    }
   ],
   "source": [
    "pred = np.mean(fold_pred, axis = 0)\n",
    "len(pred)\n",
    "test_df['pred'] = pred\n",
    "sub = test_df[['id', 'pred']]\n",
    "sub.head()"
   ]
  },
  {
   "cell_type": "code",
   "execution_count": 22,
   "id": "3dfa5e81",
   "metadata": {
    "execution": {
     "iopub.execute_input": "2024-06-18T09:25:27.173239Z",
     "iopub.status.busy": "2024-06-18T09:25:27.172783Z",
     "iopub.status.idle": "2024-06-18T09:25:27.192239Z",
     "shell.execute_reply": "2024-06-18T09:25:27.191048Z"
    },
    "id": "LXapwlshKCTe",
    "papermill": {
     "duration": 0.042991,
     "end_time": "2024-06-18T09:25:27.195248",
     "exception": false,
     "start_time": "2024-06-18T09:25:27.152257",
     "status": "completed"
    },
    "tags": []
   },
   "outputs": [],
   "source": [
    "sub.to_csv('submission.csv', index= False)"
   ]
  }
 ],
 "metadata": {
  "colab": {
   "provenance": []
  },
  "kaggle": {
   "accelerator": "none",
   "dataSources": [
    {
     "datasetId": 5231656,
     "sourceId": 8719155,
     "sourceType": "datasetVersion"
    }
   ],
   "dockerImageVersionId": 30732,
   "isGpuEnabled": false,
   "isInternetEnabled": true,
   "language": "python",
   "sourceType": "notebook"
  },
  "kernelspec": {
   "display_name": "Python 3",
   "language": "python",
   "name": "python3"
  },
  "language_info": {
   "codemirror_mode": {
    "name": "ipython",
    "version": 3
   },
   "file_extension": ".py",
   "mimetype": "text/x-python",
   "name": "python",
   "nbconvert_exporter": "python",
   "pygments_lexer": "ipython3",
   "version": "3.10.13"
  },
  "papermill": {
   "default_parameters": {},
   "duration": 87.782793,
   "end_time": "2024-06-18T09:25:27.938411",
   "environment_variables": {},
   "exception": null,
   "input_path": "__notebook__.ipynb",
   "output_path": "__notebook__.ipynb",
   "parameters": {},
   "start_time": "2024-06-18T09:24:00.155618",
   "version": "2.5.0"
  }
 },
 "nbformat": 4,
 "nbformat_minor": 5
}
